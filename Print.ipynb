{
 "metadata": {
  "language_info": {
   "codemirror_mode": {
    "name": "ipython",
    "version": 3
   },
   "file_extension": ".py",
   "mimetype": "text/x-python",
   "name": "python",
   "nbconvert_exporter": "python",
   "pygments_lexer": "ipython3",
   "version": "3.7.6-final"
  },
  "orig_nbformat": 2,
  "kernelspec": {
   "name": "python3",
   "display_name": "Python 3.7.6 64-bit (conda)",
   "metadata": {
    "interpreter": {
     "hash": "28672ebf20e1282a1a4ac5a10759016f81ba11dcd7fbd75306ef56dbf0483cea"
    }
   }
  }
 },
 "nbformat": 4,
 "nbformat_minor": 2,
 "cells": [
  {
   "cell_type": "code",
   "execution_count": 1,
   "metadata": {},
   "outputs": [
    {
     "output_type": "stream",
     "name": "stdout",
     "text": [
      "        * \n      * * \n    * * * \n  * * * * \n* * * * * \n"
     ]
    }
   ],
   "source": [
    "k = 8\n",
    "for i in range(0, 5):\n",
    "    for j in range(0, k):\n",
    "        print(end=\" \")\n",
    "    k = k - 2 \n",
    "    for j in range(0, i+1):\n",
    "        print(\"* \", end=\"\")\n",
    "    print(\"\\r\")"
   ]
  },
  {
   "cell_type": "code",
   "execution_count": 2,
   "metadata": {},
   "outputs": [
    {
     "output_type": "stream",
     "name": "stdout",
     "text": [
      "A \nB C \nD E F \nG H I J \nK L M N O \n"
     ]
    }
   ],
   "source": [
    "k=65\n",
    "for i in range(65,70):\n",
    "    for j in range(65,i+1):\n",
    "        print(chr(k),end=\" \")\n",
    "        k=k+1\n",
    "    print()"
   ]
  },
  {
   "cell_type": "code",
   "execution_count": null,
   "metadata": {},
   "outputs": [],
   "source": []
  }
 ]
}